{
 "cells": [
  {
   "cell_type": "markdown",
   "metadata": {},
   "source": [
    "# TUD&TK - CLC\n",
    "\n",
    "*(Hướng dẫn giải một bài tập \"Least squares\")*"
   ]
  },
  {
   "cell_type": "markdown",
   "metadata": {},
   "source": [
    "Khảo sát 2 đại lượng $X, Y$. Cho bảng dữ liệu như sau:"
   ]
  },
  {
   "cell_type": "markdown",
   "metadata": {},
   "source": [
    "| X | Y |\n",
    "|---|---|\n",
    "| 1 | 2 |\n",
    "| 2 | 2 |\n",
    "| 3 | 5 |\n",
    "| 4 | 8 |"
   ]
  },
  {
   "cell_type": "markdown",
   "metadata": {},
   "source": [
    "Với mỗi mô hình được cho, xác định các tham số của mô hình và tính chuẩn vector phần dư."
   ]
  },
  {
   "cell_type": "code",
   "execution_count": 1,
   "metadata": {},
   "outputs": [
    {
     "name": "stdout",
     "output_type": "stream",
     "text": [
      "[1, 2, 3, 4] [2, 2, 5, 8]\n"
     ]
    }
   ],
   "source": [
    "import numpy as np\n",
    "\n",
    "xs = [1, 2, 3, 4]\n",
    "ys = [2, 2, 5, 8]\n",
    "print(xs, ys)"
   ]
  },
  {
   "cell_type": "markdown",
   "metadata": {},
   "source": [
    "a) Mô hình tuyến tính $Y = \\theta_1 + \\theta_2X$."
   ]
  },
  {
   "cell_type": "code",
   "execution_count": 2,
   "metadata": {},
   "outputs": [],
   "source": [
    "def getAb(xs, ys):\n",
    "    col1 = np.ones(len(xs))\n",
    "    colx = np.array(xs)\n",
    "    A = np.array([col1, colx]).T\n",
    "    b = np.array(ys).reshape(len(ys), 1)\n",
    "    return A, b"
   ]
  },
  {
   "cell_type": "code",
   "execution_count": 3,
   "metadata": {},
   "outputs": [
    {
     "data": {
      "text/plain": [
       "(array([[1., 1.],\n",
       "        [1., 2.],\n",
       "        [1., 3.],\n",
       "        [1., 4.]]),\n",
       " array([[2],\n",
       "        [2],\n",
       "        [5],\n",
       "        [8]]))"
      ]
     },
     "execution_count": 3,
     "metadata": {},
     "output_type": "execute_result"
    }
   ],
   "source": [
    "A, b = getAb(xs, ys)\n",
    "A, b"
   ]
  },
  {
   "cell_type": "code",
   "execution_count": 4,
   "metadata": {},
   "outputs": [
    {
     "name": "stdout",
     "output_type": "stream",
     "text": [
      "[[-1. ]\n",
      " [ 2.1]]\n",
      "1.6431676725154984\n"
     ]
    }
   ],
   "source": [
    "x_hat = np.linalg.pinv(A) @ b\n",
    "print(x_hat)\n",
    "print(np.linalg.norm(A@x_hat - b))"
   ]
  },
  {
   "cell_type": "code",
   "execution_count": 5,
   "metadata": {},
   "outputs": [
    {
     "data": {
      "image/png": "[encoded data removed]",
      "text/plain": [
       "<Figure size 432x288 with 1 Axes>"
      ]
     },
     "metadata": {
      "needs_background": "light"
     },
     "output_type": "display_data"
    }
   ],
   "source": [
    "import matplotlib.pyplot as plt\n",
    "\n",
    "plt.plot(xs, ys, \"o\", color=\"blue\")\n",
    "ts = np.linspace(min(xs), max(xs), 50)\n",
    "yts = [x_hat[0] + x_hat[1]*t for t in ts]\n",
    "plt.plot(ts, yts, color=\"red\")\n",
    "plt.show()"
   ]
  },
  {
   "cell_type": "markdown",
   "metadata": {},
   "source": [
    "b) Mô hình $Y = \\theta_1 + \\theta_2X^2$."
   ]
  },
  {
   "cell_type": "code",
   "execution_count": 6,
   "metadata": {},
   "outputs": [],
   "source": [
    "def getAb(xs, ys):\n",
    "    col1 = np.ones(len(xs))\n",
    "    colx = np.array(xs)\n",
    "    A = np.array([col1, colx**2]).T\n",
    "    b = np.array(ys).reshape(len(ys), 1)\n",
    "    return A, b\n",
    "\n",
    "def model(x, theta):\n",
    "    return theta[0] + theta[1]*x**2"
   ]
  },
  {
   "cell_type": "code",
   "execution_count": 7,
   "metadata": {},
   "outputs": [
    {
     "data": {
      "text/plain": [
       "(array([[ 1.,  1.],\n",
       "        [ 1.,  4.],\n",
       "        [ 1.,  9.],\n",
       "        [ 1., 16.]]),\n",
       " array([[2],\n",
       "        [2],\n",
       "        [5],\n",
       "        [8]]))"
      ]
     },
     "execution_count": 7,
     "metadata": {},
     "output_type": "execute_result"
    }
   ],
   "source": [
    "A, b = getAb(xs, ys)\n",
    "A, b"
   ]
  },
  {
   "cell_type": "code",
   "execution_count": 8,
   "metadata": {},
   "outputs": [
    {
     "name": "stdout",
     "output_type": "stream",
     "text": [
      "[[1.02325581]\n",
      " [0.43023256]]\n",
      "0.9338592095470353\n"
     ]
    }
   ],
   "source": [
    "x_hat = np.linalg.pinv(A) @ b\n",
    "print(x_hat)\n",
    "print(np.linalg.norm(A@x_hat - b))"
   ]
  },
  {
   "cell_type": "code",
   "execution_count": 9,
   "metadata": {},
   "outputs": [
    {
     "data": {
      "image/png": "[encoded data removed]",
      "text/plain": [
       "<Figure size 432x288 with 1 Axes>"
      ]
     },
     "metadata": {
      "needs_background": "light"
     },
     "output_type": "display_data"
    }
   ],
   "source": [
    "import matplotlib.pyplot as plt\n",
    "\n",
    "plt.plot(xs, ys, \"o\", color=\"blue\")\n",
    "ts = np.linspace(min(xs), max(xs), 50)\n",
    "yts = [model(t, x_hat) for t in ts]\n",
    "plt.plot(ts, yts, color=\"red\")\n",
    "plt.show()"
   ]
  },
  {
   "cell_type": "markdown",
   "metadata": {},
   "source": [
    "c) Mô hình đa thức $Y = \\theta_1 + \\theta_2 X + \\theta_3 X^2$."
   ]
  },
  {
   "cell_type": "code",
   "execution_count": 10,
   "metadata": {},
   "outputs": [],
   "source": [
    "def getAb(xs, ys):\n",
    "    col1 = np.ones(len(xs))\n",
    "    colx = np.array(xs)\n",
    "    A = np.array([col1, colx, colx**2]).T\n",
    "    b = np.array(ys).reshape(len(ys), 1)\n",
    "    return A, b\n",
    "\n",
    "def model(x, theta):\n",
    "    return theta[0] + theta[1]*x + theta[2]*x**2"
   ]
  },
  {
   "cell_type": "code",
   "execution_count": 11,
   "metadata": {},
   "outputs": [
    {
     "data": {
      "text/plain": [
       "(array([[ 1.,  1.,  1.],\n",
       "        [ 1.,  2.,  4.],\n",
       "        [ 1.,  3.,  9.],\n",
       "        [ 1.,  4., 16.]]),\n",
       " array([[2],\n",
       "        [2],\n",
       "        [5],\n",
       "        [8]]))"
      ]
     },
     "execution_count": 11,
     "metadata": {},
     "output_type": "execute_result"
    }
   ],
   "source": [
    "A, b = getAb(xs, ys)\n",
    "A, b"
   ]
  },
  {
   "cell_type": "code",
   "execution_count": 12,
   "metadata": {},
   "outputs": [
    {
     "name": "stdout",
     "output_type": "stream",
     "text": [
      "[[ 2.75]\n",
      " [-1.65]\n",
      " [ 0.75]]\n",
      "0.6708203932499364\n"
     ]
    }
   ],
   "source": [
    "x_hat = np.linalg.pinv(A) @ b\n",
    "print(x_hat)\n",
    "print(np.linalg.norm(A@x_hat - b))"
   ]
  },
  {
   "cell_type": "code",
   "execution_count": 13,
   "metadata": {},
   "outputs": [
    {
     "data": {
      "image/png": "[encoded data removed]",
      "text/plain": [
       "<Figure size 432x288 with 1 Axes>"
      ]
     },
     "metadata": {
      "needs_background": "light"
     },
     "output_type": "display_data"
    }
   ],
   "source": [
    "import matplotlib.pyplot as plt\n",
    "\n",
    "plt.plot(xs, ys, \"o\", color=\"blue\")\n",
    "ts = np.linspace(min(xs), max(xs), 50)\n",
    "yts = [model(t, x_hat) for t in ts]\n",
    "plt.plot(ts, yts, color=\"red\")\n",
    "plt.show()"
   ]
  },
  {
   "cell_type": "markdown",
   "metadata": {},
   "source": [
    "d) Mô hình tuyến tính - log: $Y = \\theta_1 + \\theta_2 \\ln X$."
   ]
  },
  {
   "cell_type": "code",
   "execution_count": 14,
   "metadata": {},
   "outputs": [],
   "source": [
    "def getAb(xs, ys):\n",
    "    col1 = np.ones(len(xs))\n",
    "    colx = np.array(xs)\n",
    "    A = np.array([col1, np.log(colx)]).T\n",
    "    b = np.array(ys).reshape(len(ys), 1)\n",
    "    return A, b\n",
    "\n",
    "def model(x, theta):\n",
    "    return theta[0] + theta[1]*np.log(x)"
   ]
  },
  {
   "cell_type": "code",
   "execution_count": 15,
   "metadata": {},
   "outputs": [
    {
     "data": {
      "text/plain": [
       "(array([[1.        , 0.        ],\n",
       "        [1.        , 0.69314718],\n",
       "        [1.        , 1.09861229],\n",
       "        [1.        , 1.38629436]]),\n",
       " array([[2],\n",
       "        [2],\n",
       "        [5],\n",
       "        [8]]))"
      ]
     },
     "execution_count": 15,
     "metadata": {},
     "output_type": "execute_result"
    }
   ],
   "source": [
    "A, b = getAb(xs, ys)\n",
    "A, b"
   ]
  },
  {
   "cell_type": "code",
   "execution_count": 16,
   "metadata": {},
   "outputs": [
    {
     "name": "stdout",
     "output_type": "stream",
     "text": [
      "[[0.9795013 ]\n",
      " [4.11635406]]\n",
      "2.525625919704245\n"
     ]
    }
   ],
   "source": [
    "x_hat = np.linalg.pinv(A) @ b\n",
    "print(x_hat)\n",
    "print(np.linalg.norm(A@x_hat - b))"
   ]
  },
  {
   "cell_type": "code",
   "execution_count": 17,
   "metadata": {},
   "outputs": [
    {
     "data": {
      "image/png": "[encoded data removed]",
      "text/plain": [
       "<Figure size 432x288 with 1 Axes>"
      ]
     },
     "metadata": {
      "needs_background": "light"
     },
     "output_type": "display_data"
    }
   ],
   "source": [
    "import matplotlib.pyplot as plt\n",
    "\n",
    "plt.plot(xs, ys, \"o\", color=\"blue\")\n",
    "ts = np.linspace(min(xs), max(xs), 50)\n",
    "yts = [model(t, x_hat) for t in ts]\n",
    "plt.plot(ts, yts, color=\"red\")\n",
    "plt.show()"
   ]
  },
  {
   "cell_type": "markdown",
   "metadata": {},
   "source": [
    "e) Mô hình log - tuyến tính: $\\ln Y = \\theta_1 + \\theta_2 X$."
   ]
  },
  {
   "cell_type": "code",
   "execution_count": 18,
   "metadata": {},
   "outputs": [],
   "source": [
    "def getAb(xs, ys):\n",
    "    col1 = np.ones(len(xs))\n",
    "    colx = np.array(xs)\n",
    "    A = np.array([col1, colx]).T\n",
    "    b = np.log(np.array(ys).reshape(len(ys), 1))\n",
    "    return A, b\n",
    "\n",
    "def model(x, theta):\n",
    "    return np.exp(theta[0] + theta[1]*x)"
   ]
  },
  {
   "cell_type": "code",
   "execution_count": 19,
   "metadata": {},
   "outputs": [
    {
     "data": {
      "text/plain": [
       "(array([[1., 1.],\n",
       "        [1., 2.],\n",
       "        [1., 3.],\n",
       "        [1., 4.]]),\n",
       " array([[0.69314718],\n",
       "        [0.69314718],\n",
       "        [1.60943791],\n",
       "        [2.07944154]]))"
      ]
     },
     "execution_count": 19,
     "metadata": {},
     "output_type": "execute_result"
    }
   ],
   "source": [
    "A, b = getAb(xs, ys)\n",
    "A, b"
   ]
  },
  {
   "cell_type": "code",
   "execution_count": 20,
   "metadata": {},
   "outputs": [
    {
     "name": "stdout",
     "output_type": "stream",
     "text": [
      "[[2.22044605e-16]\n",
      " [5.07517382e-01]]\n",
      "0.3847814582720001\n"
     ]
    }
   ],
   "source": [
    "x_hat = np.linalg.pinv(A) @ b\n",
    "print(x_hat)\n",
    "print(np.linalg.norm(A@x_hat - b))"
   ]
  },
  {
   "cell_type": "code",
   "execution_count": 21,
   "metadata": {},
   "outputs": [
    {
     "data": {
      "image/png": "[encoded data removed]",
      "text/plain": [
       "<Figure size 432x288 with 1 Axes>"
      ]
     },
     "metadata": {
      "needs_background": "light"
     },
     "output_type": "display_data"
    }
   ],
   "source": [
    "import matplotlib.pyplot as plt\n",
    "\n",
    "plt.plot(xs, ys, \"o\", color=\"blue\")\n",
    "ts = np.linspace(min(xs), max(xs), 50)\n",
    "yts = [model(t, x_hat) for t in ts]\n",
    "plt.plot(ts, yts, color=\"red\")\n",
    "plt.show()"
   ]
  },
  {
   "cell_type": "markdown",
   "metadata": {},
   "source": [
    "f) Mô hình log - log: $\\ln Y = \\theta_1 + \\theta_2 \\ln X$."
   ]
  },
  {
   "cell_type": "code",
   "execution_count": 22,
   "metadata": {},
   "outputs": [],
   "source": [
    "def getAb(xs, ys):\n",
    "    col1 = np.ones(len(xs))\n",
    "    colx = np.array(xs)\n",
    "    A = np.array([col1, np.log(colx)]).T\n",
    "    b = np.log(np.array(ys).reshape(len(ys), 1))\n",
    "    return A, b\n",
    "\n",
    "def model(x, theta):\n",
    "    return np.exp(theta[0] + theta[1]*np.log(x))"
   ]
  },
  {
   "cell_type": "code",
   "execution_count": 23,
   "metadata": {},
   "outputs": [
    {
     "data": {
      "text/plain": [
       "(array([[1.        , 0.        ],\n",
       "        [1.        , 0.69314718],\n",
       "        [1.        , 1.09861229],\n",
       "        [1.        , 1.38629436]]),\n",
       " array([[0.69314718],\n",
       "        [0.69314718],\n",
       "        [1.60943791],\n",
       "        [2.07944154]]))"
      ]
     },
     "execution_count": 23,
     "metadata": {},
     "output_type": "execute_result"
    }
   ],
   "source": [
    "A, b = getAb(xs, ys)\n",
    "A, b"
   ]
  },
  {
   "cell_type": "code",
   "execution_count": 24,
   "metadata": {},
   "outputs": [
    {
     "name": "stdout",
     "output_type": "stream",
     "text": [
      "[[0.4634213]\n",
      " [1.0136671]]\n",
      "0.5673449282712968\n"
     ]
    }
   ],
   "source": [
    "x_hat = np.linalg.pinv(A) @ b\n",
    "print(x_hat)\n",
    "print(np.linalg.norm(A@x_hat - b))"
   ]
  },
  {
   "cell_type": "code",
   "execution_count": 25,
   "metadata": {},
   "outputs": [
    {
     "data": {
      "image/png": "[encoded data removed]",
      "text/plain": [
       "<Figure size 432x288 with 1 Axes>"
      ]
     },
     "metadata": {
      "needs_background": "light"
     },
     "output_type": "display_data"
    }
   ],
   "source": [
    "import matplotlib.pyplot as plt\n",
    "\n",
    "plt.plot(xs, ys, \"o\", color=\"blue\")\n",
    "ts = np.linspace(min(xs), max(xs), 50)\n",
    "yts = [model(t, x_hat) for t in ts]\n",
    "plt.plot(ts, yts, color=\"red\")\n",
    "plt.show()"
   ]
  }
 ],
 "metadata": {
  "kernelspec": {
   "display_name": "Python 3",
   "language": "python",
   "name": "python3"
  },
  "language_info": {
   "codemirror_mode": {
    "name": "ipython",
    "version": 3
   },
   "file_extension": ".py",
   "mimetype": "text/x-python",
   "name": "python",
   "nbconvert_exporter": "python",
   "pygments_lexer": "ipython3",
   "version": "3.8.2"
  }
 },
 "nbformat": 4,
 "nbformat_minor": 4
}
