{
 "cells": [
  {
   "cell_type": "code",
   "execution_count": null,
   "metadata": {},
   "outputs": [],
   "source": [
    "import numpy as np\n",
    "from PIL import Image\n",
    "import matplotlib.pyplot as plt"
   ]
  },
  {
   "cell_type": "code",
   "execution_count": null,
   "metadata": {},
   "outputs": [],
   "source": [
    "# Tải ảnh\n",
    "img_load = Image.open('image.jpg')\n",
    "\n",
    "# Đọc ảnh\n",
    "img = np.array(img_load)\n",
    "\n",
    "img_height, img_width = img.shape[0], img.shape[1]\n",
    "\n",
    "img = img.reshape(img_height*img_width, img.shape[2])\n"
   ]
  },
  {
   "cell_type": "code",
   "execution_count": null,
   "metadata": {},
   "outputs": [],
   "source": [
    "def initCentroids(img_1d, k_clusters, init_centroids):\n",
    "    if init_centroids == 'random':\n",
    "        centroids = np.random.randint(\n",
    "            0, 255, size=(k_clusters, img_1d.shape[1]))\n",
    "    elif init_centroids == 'in_pixels':\n",
    "        centroids = img_1d[np.random.choice(\n",
    "            img_1d.shape[0], size=k_clusters, replace=False)]\n",
    "    return centroids\n",
    "\n",
    "def kmeans(img_1d, k_clusters, max_iter, init_centroids='in_pixels'):\n",
    "    \n",
    "    centroids = initCentroids(img_1d, k_clusters, init_centroids)\n",
    "\n",
    "    while max_iter:\n",
    "\n",
    "        #Tìm những giá trị có norm nhỏ nhất sau khi trừ array img với centroids\n",
    "        #Xử lý norm với hàng\n",
    "        dis = np.linalg.norm(img_1d - centroids[:, np.newaxis], axis=2)\n",
    "\n",
    "        #Trả về vị trí với norm nhỏ nhất để thực hiện thay thế các giá trị không phù hơp\n",
    "        #của centroids\n",
    "        labels = np.argmin(dis, axis=0)\n",
    "\n",
    "        #Tạo array chứa các giá trị trung bình của cột gồm các vector có vị trí trùng\n",
    "        #với vị trí labels\n",
    "        means = []\n",
    "        for k in range(k_clusters):\n",
    "            means.append(img_1d[labels == k].mean(axis=0))\n",
    "        \n",
    "        #Cập nhật centroids\n",
    "        for j in range(k_clusters):\n",
    "            centroids[j] = means[j]\n",
    "\n",
    "        max_iter -= 1\n",
    "        \n",
    "    #Cập nhật lại labels\n",
    "    dis = np.linalg.norm(img_1d - centroids[:, np.newaxis], axis=2)\n",
    "    labels = np.argmin(dis, axis=0)\n",
    "\n",
    "    return centroids, labels\n",
    "\n",
    "def OneImage(img, k_cluster, img_height, img_width, init_centroids = 'random'):\n",
    "    img_tmp = img.copy()\n",
    "\n",
    "    centroids, labels = kmeans(img_tmp, k_cluster, 10, init_centroids)\n",
    "\n",
    "    #Cập nhật các giá trị trung bình được xác định trong centrois vào img\n",
    "    for k in range(centroids.shape[0]):\n",
    "        img_tmp[labels == k] = centroids[k]\n",
    "    img_tmp = img_tmp.astype(\"uint8\")\n",
    "    img_tmp = img_tmp.reshape(img_height, img_width, 3)\n",
    "    return img_tmp\n",
    "    \n",
    "def ListTestImage(img,img_load, img_height, img_width):\n",
    "    img_list = []\n",
    "    img_list.append(img_load)\n",
    "    #Giảm số lượng màu bằng in_pixels\n",
    "    for k_cluster in [3, 5, 7]:\n",
    "        img_list.append(OneImage(img, k_cluster, img_height, img_width, 'in_pixels').copy())\n",
    "    #Giảm số lượng màu bằng random\n",
    "    for k_cluster in [3, 5, 7]:\n",
    "        img_list.append(OneImage(img, k_cluster, img_height, img_width, 'random').copy())\n",
    "\n",
    "    demo, axis = plt.subplots(1, 1, figsize=(10, 7))\n",
    "    axis.imshow(img_list[0])\n",
    "    axis.set_title('Original Image')\n",
    "    plt.tight_layout()\n",
    "    demo, axis = plt.subplots(1, 3, figsize=(10, 7))\n",
    "    index = 1\n",
    "    for i, k in [(0, 3), (1, 5), (2, 7)]:\n",
    "        axis[i].set_title(f'in_pixels with k = {k}')\n",
    "        axis[i].imshow(img_list[index])\n",
    "        index += 1\n",
    "    plt.tight_layout()\n",
    "\n",
    "    demo, axis = plt.subplots(1, 3, figsize=(10, 7))\n",
    "    for i, k in [(0, 3), (1, 5), (2, 7)]:\n",
    "        axis[i].set_title(f'random with k = {k}')\n",
    "        axis[i].imshow(img_list[index])\n",
    "        index += 1\n",
    "    plt.tight_layout()"
   ]
  },
  {
   "cell_type": "code",
   "execution_count": null,
   "metadata": {},
   "outputs": [],
   "source": [
    "plt.imshow(OneImage(img, 3, img_height, img_width, 'random'))\n"
   ]
  },
  {
   "cell_type": "code",
   "execution_count": null,
   "metadata": {},
   "outputs": [],
   "source": [
    "plt.imshow(OneImage(img, 5, img_height, img_width, 'random'))\n"
   ]
  },
  {
   "cell_type": "code",
   "execution_count": null,
   "metadata": {},
   "outputs": [],
   "source": [
    "plt.imshow(OneImage(img, 7, img_height, img_width, 'random'))"
   ]
  },
  {
   "cell_type": "code",
   "execution_count": null,
   "metadata": {},
   "outputs": [],
   "source": [
    "plt.imshow(OneImage(img, 3, img_height, img_width, 'in_pixels'))"
   ]
  },
  {
   "cell_type": "code",
   "execution_count": null,
   "metadata": {},
   "outputs": [],
   "source": [
    "plt.imshow(OneImage(img, 5, img_height, img_width, 'in_pixels'))"
   ]
  },
  {
   "cell_type": "code",
   "execution_count": null,
   "metadata": {},
   "outputs": [],
   "source": [
    "plt.imshow(OneImage(img, 7, img_height, img_width, 'in_pixels'))"
   ]
  },
  {
   "cell_type": "code",
   "execution_count": null,
   "metadata": {},
   "outputs": [],
   "source": [
    "ListTestImage(img,img_load, img_height, img_width)\n"
   ]
  },
  {
   "cell_type": "code",
   "execution_count": null,
   "metadata": {},
   "outputs": [],
   "source": [
    "print('Nhập tên file muốn mở: ')\n",
    "name_img = input()\n",
    "print(f'Đang mở: ' + name_img)\n",
    "try:\n",
    "    dir_img = Image.open(name_img)\n",
    "\n",
    "    img_input = np.array(dir_img)\n",
    "\n",
    "    img_input_height, img_input_width = img_input.shape[0], img_input.shape[1]\n",
    "\n",
    "    img_input = img_input.reshape(\n",
    "        img_input_height*img_input_width, img_input.shape[2])\n",
    "\n",
    "    print('Mở file thành công')\n",
    "    \n",
    "    ListTestImage(img_input, dir_img, img_input_height, img_input_width)\n",
    "\n",
    "    print('Bạn muốn xuất file bằng định dạng nào:\\n1. jpg\\n2. png\\n3. pdf\\nHãy nhập lựa chọn (1, 2, 3): ')\n",
    "    choose = int(input())\n",
    "    while not(choose >= 1 and choose <= 3):\n",
    "        print('Bạn đã nhập sai!\\nVui lòng nhập lại: ')\n",
    "        choose = int(input())\n",
    "    print('Nhập tên file muốn lưu: ')\n",
    "    new_file = input()\n",
    "    img_tmp = img_input.copy()\n",
    "    img_tmp = img_tmp.astype(\"uint8\")\n",
    "    img_tmp = img_tmp.reshape(img_height, img_width, 3)\n",
    "    im = Image.fromarray(img_tmp)\n",
    "    if choose == 1:\n",
    "        im.save(new_file+\".jpg\")\n",
    "    elif choose == 2:\n",
    "        im.save(new_file + '.png')\n",
    "    else:\n",
    "        im.save(new_file + '.pdf')\n",
    "except:\n",
    "    print('Ảnh không tồn tại')\n"
   ]
  }
 ],
 "metadata": {
  "interpreter": {
   "hash": "0b3b2cc732449cce14c7ed609115ba86d8725a0c7953f82e140949be0b55e02a"
  },
  "kernelspec": {
   "display_name": "Python 3.9.12 ('base')",
   "language": "python",
   "name": "python3"
  },
  "language_info": {
   "codemirror_mode": {
    "name": "ipython",
    "version": 3
   },
   "file_extension": ".py",
   "mimetype": "text/x-python",
   "name": "python",
   "nbconvert_exporter": "python",
   "pygments_lexer": "ipython3",
   "version": "3.9.12"
  },
  "orig_nbformat": 4
 },
 "nbformat": 4,
 "nbformat_minor": 2
}
