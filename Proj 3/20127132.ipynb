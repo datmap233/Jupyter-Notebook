{
  "cells": [
    {
      "cell_type": "markdown",
      "metadata": {
        "id": "4s-82vZjvRF_"
      },
      "source": [
        "# <center>Đồ án 3: Linear Regression</center>\n"
      ]
    },
    {
      "cell_type": "markdown",
      "metadata": {
        "id": "_UclegoAvRGC"
      },
      "source": [
        "# Thông tin sinh viên\n",
        "\n",
        "-   Họ và tên: Nguyễn Văn Đạt\n",
        "-   MSSV: 20127132\n",
        "-   Lớp: 20CLC5\n"
      ]
    },
    {
      "cell_type": "markdown",
      "metadata": {
        "id": "deQ_VibkvRGC"
      },
      "source": [
        "# Import\n"
      ]
    },
    {
      "cell_type": "code",
      "execution_count": null,
      "metadata": {
        "id": "VdrM3o2ovRGD"
      },
      "outputs": [],
      "source": [
        "import pandas as pd\n",
        "import numpy as np\n",
        "\n",
        "# Import thêm dữ thư viện nếu cần\n",
        "from sklearn.utils import shuffle\n",
        "import matplotlib.pyplot as plt\n"
      ]
    },
    {
      "cell_type": "markdown",
      "metadata": {
        "id": "9KCt4NbcvRGE"
      },
      "source": [
        "# Đọc dữ liệu\n"
      ]
    },
    {
      "cell_type": "code",
      "execution_count": null,
      "metadata": {
        "id": "snuT9q8JvRGE"
      },
      "outputs": [],
      "source": [
        "# Đọc dữ liệu bằng pandas\n",
        "train = pd.read_csv('train.csv')\n",
        "test = pd.read_csv('test.csv')\n",
        "\n",
        "# Lấy các đặc trưng X và giá trị mục tiêu y cho các tập huấn luyện (train) và kiểm tra (test)\n",
        "# Dataframe (chứa 10 đặc trưng huấn luyện)\n",
        "X_train = train.iloc[:, :-1].to_numpy()\n",
        "# Series    (chứa 1 giá trị mục tiêu kiểm tra)\n",
        "y_train = train.iloc[:, -1].to_numpy()\n",
        "\n",
        "# Dataframe (chứa 10 đặc trưng kiểm tra)\n",
        "X_test = test.iloc[:, :-1].to_numpy()\n",
        "# Series    (chứa 1 giá trị mục tiêu kiểm tra)\n",
        "y_test = test.iloc[:, -1].to_numpy()\n",
        "\n",
        "# Sinh viên có thể sử dụng các khác nếu cần\n",
        "title = [\"Adult Mortality\", 'BMI', 'Polio', 'Diphtheria', \"HIV/AIDS\", 'GDP',\n",
        "         'Thinness age 10-19', 'Thinness age 5-9', 'Income composition of resources', 'Schooling']\n"
      ]
    },
    {
      "cell_type": "markdown",
      "metadata": {
        "id": "4RjWv7j5vRGE"
      },
      "source": [
        "# Cài đặt hàm\n"
      ]
    },
    {
      "cell_type": "code",
      "execution_count": null,
      "metadata": {
        "id": "NO-oKiKivRGF"
      },
      "outputs": [],
      "source": [
        "# Cài đặt các hàm cần thiết ở đây\n",
        "class OLSLinearRegression:\n",
        "    def fit(self, X, y):\n",
        "        X_pinv = np.linalg.inv(X.T @ X) @ X.T    # np.linalg.pinv(X)\n",
        "        self.w = X_pinv @ y\n",
        "        return self\n",
        "\n",
        "    def get_params(self):\n",
        "        return self.w\n",
        "\n",
        "    def predict(self, X):\n",
        "        return np.sum(self.w.ravel() * X, axis=1)\n",
        "\n",
        "\n",
        "def plot_regression(lr, x, y):\n",
        "    index = 0\n",
        "    # Plot data\n",
        "    plt.scatter(x[:, index], y, color='b', marker='o')\n",
        "    index += 1\n",
        "    if(index < x.shape[1]):\n",
        "        plt.scatter(x[:, index], y, color='b', marker='o')\n",
        "        index += 1\n",
        "    if(index < x.shape[1]):\n",
        "        plt.scatter(x[:, index], y, color='b', marker='o')\n",
        "\n",
        "    # Plot regression line\n",
        "    x_para = np.linspace(0, 100, 1085).reshape(-1, 1)\n",
        "    if x.shape[1] == 1:\n",
        "        X_para = np.hstack((x_para**2))\n",
        "    if x.shape[1] == 3:\n",
        "        X_para = np.hstack((x_para, x_para**2, x_para**3))\n",
        "    else:\n",
        "        X_para = np.hstack((x_para, x_para**2))\n",
        "    y_pred = lr.predict(X_para)\n",
        "    plt.plot(x_para, y_pred, color='r')\n",
        "\n",
        "    plt.xlabel('x')\n",
        "    plt.ylabel('y')\n",
        "\n",
        "    plt.grid()\n",
        "    plt.show()\n",
        "\n",
        "\n",
        "def RMSE(y_test, y_test_pred):\n",
        "    return np.sqrt(np.square(np.subtract(y_test, y_test_pred)).mean())\n"
      ]
    },
    {
      "cell_type": "markdown",
      "metadata": {
        "id": "0KgnwuWOvRGF"
      },
      "source": [
        "# Yêu cầu 1a: Sử dụng toàn bộ 10 đặc trưng đề bài cung cấp (2 điểm)\n"
      ]
    },
    {
      "cell_type": "code",
      "execution_count": null,
      "metadata": {
        "id": "y4EWytodvRGF"
      },
      "outputs": [],
      "source": [
        "# Phần code cho yêu cầu 1a\n",
        "def main1a(X_train, y_train, X_test):\n",
        "    x = X_train\n",
        "    y = y_train\n",
        "    lr = OLSLinearRegression().fit(x, y)\n",
        "    y_test_pred = lr.predict(X_test)\n",
        "    return y_test_pred\n"
      ]
    },
    {
      "cell_type": "code",
      "execution_count": null,
      "metadata": {
        "colab": {
          "base_uri": "https://localhost:8080/"
        },
        "id": "oFWC-1N0vRGG",
        "outputId": "b1afaff7-7c9b-4fdd-c7e2-ae5180797d5e"
      },
      "outputs": [],
      "source": [
        "# Gọi hàm RMSE (tự cài đặt hoặc từ thư viện) trên tập kiểm tra\n",
        "rmse = RMSE(y_test, main1a(X_train, y_train, X_test))\n",
        "print(\"RMSE =\", rmse)\n"
      ]
    },
    {
      "cell_type": "markdown",
      "metadata": {
        "id": "UUs0oNScRjOS"
      },
      "source": [
        "Công thức hồi quy\n",
        "\n",
        "$$\n",
        "\\text{Life expectancy} = 0.0151 * Adult Mortality + 0.0902 * BMI + 0.0429 * Polio + 0.1393 * Diphtheria - 0.5673 * HIV/AIDS - 0.0001 * GDP - 0.7407 * (Thinness age 10-19) - 0.1909 * (Thinness age 5-9) + 24.5060 * (Income composition of resources) + 2.39350 * Schooling\n",
        "$$\n"
      ]
    },
    {
      "cell_type": "markdown",
      "metadata": {
        "id": "AS7bR79ovRGG"
      },
      "source": [
        "# Yêu cầu 1b: Xây dựng mô hình sử dụng duy nhất 1 đặc trưng, tìm mô hình cho kết quả tốt nhất (2 điểm)\n"
      ]
    },
    {
      "cell_type": "markdown",
      "metadata": {
        "id": "wAQ-RC4cvRGG"
      },
      "source": [
        "Lưu ý: khi sử dụng cross-validation, sinh viên cần xáo trộn dữ liệu 1 lần duy nhất và thực hiện trên toàn bộ đặc trưng\n"
      ]
    },
    {
      "cell_type": "code",
      "execution_count": null,
      "metadata": {
        "id": "oHPXPzYkvRGG"
      },
      "outputs": [],
      "source": [
        "# Phần code cho yêu cầu 1b\n",
        "# Tìm ra đặc trưng tốt nhất\n",
        "# In ra các kết quả cross-validation như yêu cầu\n",
        "def main1b(X_train, y_train):\n",
        "    X_train_clone = X_train.copy()\n",
        "    y_train_clone = y_train.copy()\n",
        "\n",
        "    X_train_clone, y_train_clone = shuffle(\n",
        "        X_train_clone, y_train_clone, random_state=0)\n",
        "\n",
        "    rmse_mean = []\n",
        "    for i in range(0, 10):\n",
        "\n",
        "        X_train_feature = X_train_clone[:, i].copy().reshape(-1, 1)\n",
        "\n",
        "        y_train_feature = y_train_clone.copy().reshape(-1, 1)\n",
        "\n",
        "        rmse = []\n",
        "        for k in range(0, 5):\n",
        "            if k == 0:\n",
        "                x_k_val = X_train_feature[:217]\n",
        "                y_k_val = y_train_feature[:217]\n",
        "                x_k_train = X_train_feature[217:]\n",
        "                y_k_train = y_train_feature[217:]\n",
        "            elif k == 4:\n",
        "                x_k_val = X_train_feature[(k*217):]\n",
        "                y_k_val = y_train_feature[(k*217):]\n",
        "                x_k_train = X_train_feature[:(k*217)]\n",
        "                y_k_train = y_train_feature[:(k*217)]\n",
        "            else:\n",
        "                x_k_val = X_train_feature[(k*217):(k*217) + 217]\n",
        "                y_k_val = y_train_feature[(k*217):(k*217) + 217]\n",
        "\n",
        "                x_k_train = np.concatenate(\n",
        "                    (X_train_feature[((k + 1)*217):], X_train_feature[:(k*217)]), axis=None).reshape(-1, 1)\n",
        "                y_k_train = np.concatenate(\n",
        "                    (y_train_feature[((k + 1)*217):], y_train_feature[:(k*217)]), axis=None).reshape(-1, 1)\n",
        "\n",
        "            lr = OLSLinearRegression().fit(x_k_train, y_k_train)\n",
        "            y_k_val_pred = lr.predict(x_k_val)\n",
        "\n",
        "            rmse.append(RMSE(y_k_val, y_k_val_pred))\n",
        "\n",
        "        rmse_mean.append(np.mean(rmse))\n",
        "    return rmse_mean\n"
      ]
    },
    {
      "cell_type": "code",
      "execution_count": null,
      "metadata": {
        "id": "c4VRtiYBvRGH"
      },
      "outputs": [],
      "source": [
        "# Huấn luyện lại mô hình best_feature_model với đặc trưng tốt nhất trên toàn bộ tập huấn luyện\n",
        "\n",
        "def re_train_best_feature_model(X_train, y_train, X_test):\n",
        "\n",
        "    i_best = np.argmin(main1b(X_train, y_train), axis=0)\n",
        "\n",
        "    print('Sử dụng đặc trưng:', title[i_best])\n",
        "\n",
        "    X_re_train = X_train[:, i_best].copy().reshape(-1, 1)\n",
        "\n",
        "    y_re_train = y_train.copy().reshape(-1, 1)\n",
        "\n",
        "    X_test_re_train = X_test[:, i_best].copy().reshape(-1, 1)\n",
        "\n",
        "    x_best_feature = X_re_train\n",
        "\n",
        "    lr = OLSLinearRegression().fit(x_best_feature, y_re_train)\n",
        "\n",
        "    y_test_pre = lr.predict(X_test_re_train)\n",
        "\n",
        "    return y_test_pre\n"
      ]
    },
    {
      "cell_type": "code",
      "execution_count": null,
      "metadata": {
        "id": "j84KtalTvRGH"
      },
      "outputs": [],
      "source": [
        "# Gọi hàm RMSE (tự cài đặt hoặc từ thư viện) trên tập kiểm tra với mô hình best_feature_model\n",
        "rmse = RMSE(y_test, re_train_best_feature_model(X_train, y_train, X_test))\n",
        "print(\"RMSE =\",rmse)\n"
      ]
    },
    {
      "cell_type": "markdown",
      "metadata": {
        "id": "T3Q1usnbRjOV"
      },
      "source": [
        "<center>\n",
        "\n",
        "| STT |     Mô hình với 1 đặc trưng     |  RMSE   |\n",
        "| :-: | :-----------------------------: | :-----: |\n",
        "|  1  |         Adult Mortality         | 41.9200 |\n",
        "|  2  |               BMI               | 33.2783 |\n",
        "|  3  |              Polio              | 21.1875 |\n",
        "|  4  |           Diphtheria            | 19.5753 |\n",
        "|  5  |            HIV/AIDS             | 65.6792 |\n",
        "|  6  |               GDP               | 62.4901 |\n",
        "|  7  |       Thinness age 10-19        | 48.9019 |\n",
        "|  8  |        Thinness age 5-9         | 48.8179 |\n",
        "|  9  | Income composition of resources | 20.9910 |\n",
        "| 10  |            Schooling            | 19.1516 |\n",
        "\n",
        "<center>\n"
      ]
    },
    {
      "cell_type": "markdown",
      "metadata": {
        "id": "EuavSm5wvRGH"
      },
      "source": [
        "Công thức hồi quy\n",
        "\n",
        "$$\\text{Life expectancy} = 5.5573 * Schooling$$\n"
      ]
    },
    {
      "cell_type": "markdown",
      "metadata": {
        "id": "8TlK5_tEvRGH"
      },
      "source": [
        "# Yêu cầu 1c: Sinh viên tự xây dựng mô hình, tìm mô hình cho kết quả tốt nhất (3 điểm)\n"
      ]
    },
    {
      "cell_type": "markdown",
      "metadata": {
        "id": "irbW9SU7vRGH"
      },
      "source": [
        "Lưu ý: khi sử dụng cross-validation, sinh viên cần xáo trộn dữ liệu 1 lần duy nhất và thực hiện trên toàn bộ $m$ mô hình mà sinh viên thiết kế\n"
      ]
    },
    {
      "cell_type": "code",
      "execution_count": null,
      "metadata": {
        "id": "PbrRyaAKvRGH"
      },
      "outputs": [],
      "source": [
        "# Phần code cho yêu cầu 1c\n",
        "# Tìm ra mô hình tốt nhất (tự thiết kế bởi sinh viên)\n",
        "# In ra các kết quả cross-validation như yêu cầu\n",
        "\n",
        "def model1(X_train, i, j):\n",
        "    return np.concatenate((X_train[:, i].copy(\n",
        "    ).reshape(-1, 1), X_train[:, j].copy().reshape(-1, 1))).reshape(-1, 2)\n",
        "\n",
        "\n",
        "def model2(X_train, i, j, k):\n",
        "    return np.concatenate(((X_train[:, i].copy(\n",
        "    ).reshape(-1, 1)), X_train[:, j].copy().reshape(-1, 1), X_train[:, k].copy().reshape(-1, 1))).reshape(-1, 3)\n",
        "\n",
        "\n",
        "def model3(X_train, i, j, k):\n",
        "    return np.concatenate((X_train[:, i].copy().reshape(-1, 1) * X_train[:, j].copy(\n",
        "    ).reshape(-1, 1), X_train[:, k].copy().reshape(-1, 1))).reshape(-1, 2)\n",
        "\n",
        "\n",
        "def main1c_1(X_train, y_train):\n",
        "    X_train_clone = X_train.copy()\n",
        "    y_train_clone = y_train.copy()\n",
        "\n",
        "    X_train_clone, y_train_clone = shuffle(\n",
        "        X_train_clone, y_train_clone, random_state=0)\n",
        "\n",
        "    rmse_mean = []\n",
        "    rmse_mean_pos = []\n",
        "\n",
        "    for i in range(0, 9):\n",
        "        for j in range(i + 1, 10):\n",
        "\n",
        "            X_train_feature = model1(X_train_clone, i, j)\n",
        "\n",
        "            y_train_feature = y_train_clone.copy().reshape(-1, 1)\n",
        "\n",
        "            rmse = []\n",
        "\n",
        "            for k in range(0, 5):\n",
        "                if k == 0:\n",
        "                    x_k_val = X_train_feature[:217, :]\n",
        "                    y_k_val = y_train_feature[:217]\n",
        "                    x_k_train = X_train_feature[217:, :]\n",
        "                    y_k_train = y_train_feature[217:]\n",
        "                elif k == 4:\n",
        "                    x_k_val = X_train_feature[(k*217):]\n",
        "                    y_k_val = y_train_feature[(k*217):]\n",
        "                    x_k_train = X_train_feature[:(k*217)]\n",
        "                    y_k_train = y_train_feature[:(k*217)]\n",
        "                else:\n",
        "                    x_k_val = X_train_feature[(k*217):(k*217) + 217]\n",
        "                    y_k_val = y_train_feature[(k*217):(k*217) + 217]\n",
        "\n",
        "                    x_k_train = np.concatenate(\n",
        "                        (X_train_feature[((k + 1)*217):], X_train_feature[:(k*217)]), axis=0).reshape(-1, 2)\n",
        "                    y_k_train = np.concatenate(\n",
        "                        (y_train_feature[((k + 1)*217):], y_train_feature[:(k*217)]), axis=0).reshape(-1, 1)\n",
        "\n",
        "                lr = OLSLinearRegression().fit(x_k_train, y_k_train)\n",
        "                y_k_val_pred = lr.predict(x_k_val)\n",
        "\n",
        "                rmse.append(RMSE(y_k_val, y_k_val_pred))\n",
        "\n",
        "            rmse_mean.append(np.mean(rmse))\n",
        "            rmse_mean_pos.append([i, j])\n",
        "\n",
        "    return rmse_mean, rmse_mean_pos\n",
        "\n",
        "\n",
        "def main1c_2(X_train, y_train):\n",
        "    X_train_clone = X_train.copy()\n",
        "    y_train_clone = y_train.copy()\n",
        "\n",
        "    X_train_clone, y_train_clone = shuffle(\n",
        "        X_train_clone, y_train_clone, random_state=0)\n",
        "\n",
        "    rmse_mean = []\n",
        "    rmse_mean_pos = []\n",
        "\n",
        "    for i in range(0, 8):\n",
        "        for j in range(i+1, 9):\n",
        "            for l in range(j+1, 10):\n",
        "                X_train_feature = model2(X_train_clone, i, j, l)\n",
        "\n",
        "                y_train_feature = y_train_clone.copy().reshape(-1, 1)\n",
        "\n",
        "                rmse = []\n",
        "\n",
        "                lr = OLSLinearRegression()\n",
        "\n",
        "                for k in range(0, 5):\n",
        "                    if k == 0:\n",
        "                        x_k_val = X_train_feature[:217, :]\n",
        "                        y_k_val = y_train_feature[:217]\n",
        "                        x_k_train = X_train_feature[217:, :]\n",
        "                        y_k_train = y_train_feature[217:]\n",
        "                    elif k == 4:\n",
        "                        x_k_val = X_train_feature[(k*217):]\n",
        "                        y_k_val = y_train_feature[(k*217):]\n",
        "                        x_k_train = X_train_feature[:(k*217)]\n",
        "                        y_k_train = y_train_feature[:(k*217)]\n",
        "                    else:\n",
        "                        x_k_val = X_train_feature[(k*217):(k*217) + 217]\n",
        "                        y_k_val = y_train_feature[(k*217):(k*217) + 217]\n",
        "\n",
        "                        x_k_train = np.concatenate(\n",
        "                            (X_train_feature[((k + 1)*217):], X_train_feature[:(k*217)]), axis=0).reshape(-1, 3)\n",
        "                        y_k_train = np.concatenate(\n",
        "                            (y_train_feature[((k + 1)*217):], y_train_feature[:(k*217)]), axis=0).reshape(-1, 1)\n",
        "\n",
        "                    lr = lr.fit(x_k_train, y_k_train)\n",
        "\n",
        "                    y_k_val_pred = lr.predict(x_k_val)\n",
        "\n",
        "                    rmse.append(RMSE(y_k_val, y_k_val_pred))\n",
        "\n",
        "                rmse_mean.append(np.mean(rmse))\n",
        "                rmse_mean_pos.append([i, j, l])\n",
        "\n",
        "    return rmse_mean, rmse_mean_pos\n",
        "\n",
        "\n",
        "def main1c_3(X_train, y_train):\n",
        "    X_train_clone = X_train.copy()\n",
        "    y_train_clone = y_train.copy()\n",
        "\n",
        "    X_train_clone, y_train_clone = shuffle(\n",
        "        X_train_clone, y_train_clone, random_state=0)\n",
        "\n",
        "    rmse_mean = []\n",
        "    rmse_mean_pos = []\n",
        "\n",
        "    for i in range(0, 10):\n",
        "        for j in range(0, 10):\n",
        "            if i == j:\n",
        "                continue\n",
        "            for l in range(0, 10):\n",
        "                if i == l or j == l:\n",
        "                    continue\n",
        "                X_train_feature = model3(X_train_clone, i, j, l)\n",
        "\n",
        "                y_train_feature = y_train_clone.copy().reshape(-1, 1)\n",
        "\n",
        "                rmse = []\n",
        "\n",
        "                for k in range(0, 5):\n",
        "                    if k == 0:\n",
        "                        x_k_val = X_train_feature[:217, :]\n",
        "                        y_k_val = y_train_feature[:217]\n",
        "                        x_k_train = X_train_feature[217:, :]\n",
        "                        y_k_train = y_train_feature[217:]\n",
        "                    elif k == 4:\n",
        "                        x_k_val = X_train_feature[(k*217):]\n",
        "                        y_k_val = y_train_feature[(k*217):]\n",
        "                        x_k_train = X_train_feature[:(k*217)]\n",
        "                        y_k_train = y_train_feature[:(k*217)]\n",
        "                    else:\n",
        "                        x_k_val = X_train_feature[(k*217):(k*217) + 217]\n",
        "                        y_k_val = y_train_feature[(k*217):(k*217) + 217]\n",
        "\n",
        "                        x_k_train = np.concatenate(\n",
        "                            (X_train_feature[((k + 1)*217):], X_train_feature[:(k*217)]), axis=0).reshape(-1, 2)\n",
        "                        y_k_train = np.concatenate(\n",
        "                            (y_train_feature[((k + 1)*217):], y_train_feature[:(k*217)]), axis=0).reshape(-1, 1)\n",
        "\n",
        "                    lr = OLSLinearRegression().fit(x_k_train, y_k_train)\n",
        "                    y_k_val_pred = lr.predict(x_k_val)\n",
        "\n",
        "                    rmse.append(RMSE(y_k_val, y_k_val_pred))\n",
        "\n",
        "                rmse_mean.append(np.mean(rmse))\n",
        "                rmse_mean_pos.append([i, j, l])\n",
        "\n",
        "    return rmse_mean, rmse_mean_pos\n"
      ]
    },
    {
      "cell_type": "markdown",
      "metadata": {},
      "source": [
        "<center>\n",
        "\n",
        "| STT |                                   Mô hình                                 |  RMSE   |\n",
        "| :-: | :-----------------------------------------------------------------------: | :-----: |\n",
        "|  1  |                   Sử dụng 2 đặc trưng (Polio, Diphtheria)                 | 16.0253 |\n",
        "|  2  |      Sử dụng 3 đặc trưng (BMI, Polio, Diphtheria)                         | 24.8921 |\n",
        "|  3  | Sử dụng 3 đặc trưng (Diphtheria, Income composition of resources , Polio) | 23.9041 |\n",
        "\n",
        "</center>\n"
      ]
    },
    {
      "cell_type": "code",
      "execution_count": null,
      "metadata": {
        "id": "IgE4KrhdvRGI"
      },
      "outputs": [],
      "source": [
        "# Huấn luyện lại mô hình my_best_model trên toàn bộ tập huấn luyện\n",
        "\n",
        "def re_train_best_feature_model_1c_1(X_train, y_train, X_test, rmse_mean, rmse_mean_pos):\n",
        "\n",
        "    i_best = rmse_mean_pos[np.argmin(rmse_mean)]\n",
        "\n",
        "    print('Sử dụng 2 đặc trưng:', title[i_best[0]], ',', title[i_best[1]])\n",
        "\n",
        "    X_re_train = model1(X_train, i_best[0], i_best[1])\n",
        "\n",
        "    y_re_train = y_train.copy().reshape(-1, 1)\n",
        "\n",
        "    X_test_re_train = model1(X_test, i_best[0], i_best[1])\n",
        "\n",
        "    x_best_feature = X_re_train\n",
        "\n",
        "    lr = OLSLinearRegression().fit(x_best_feature, y_re_train)\n",
        "\n",
        "    y_test_pre = lr.predict(X_test_re_train)\n",
        "\n",
        "    return y_test_pre\n",
        "\n",
        "\n",
        "def re_train_best_feature_model_1c_2(X_train, y_train, X_test, rmse_mean, rmse_mean_pos):\n",
        "\n",
        "    i_best = rmse_mean_pos[np.argmin(rmse_mean)]\n",
        "\n",
        "    print('Sử dụng 3 đặc trưng:', title[i_best[0]],\n",
        "          ',', title[i_best[1]], ',', title[i_best[2]])\n",
        "\n",
        "    X_re_train = model2(X_train, i_best[0], i_best[1], i_best[2])\n",
        "\n",
        "    y_re_train = y_train.copy().reshape(-1, 1)\n",
        "\n",
        "    X_test_re_train = model2(X_test, i_best[0], i_best[1], i_best[2])\n",
        "\n",
        "    x_best_feature = X_re_train\n",
        "\n",
        "    lr = OLSLinearRegression().fit(x_best_feature, y_re_train)\n",
        "\n",
        "    y_test_pre = lr.predict(X_test_re_train)\n",
        "\n",
        "    return y_test_pre\n",
        "\n",
        "\n",
        "def re_train_best_feature_model_1c_3(X_train, y_train, X_test, rmse_mean, rmse_mean_pos):\n",
        "\n",
        "    i_best = rmse_mean_pos[np.argmin(rmse_mean)]\n",
        "\n",
        "    print('Sử dụng 3 đặc trưng:', title[i_best[0]],\n",
        "          ',', title[i_best[1]], ',', title[i_best[2]])\n",
        "\n",
        "    X_re_train = model3(X_train, i_best[0], i_best[1], i_best[2])\n",
        "\n",
        "    y_re_train = y_train.copy().reshape(-1, 1)\n",
        "\n",
        "    X_test_re_train = model3(X_test, i_best[0], i_best[1], i_best[2])\n",
        "\n",
        "    x_best_feature = X_re_train\n",
        "\n",
        "    lr = OLSLinearRegression().fit(x_best_feature, y_re_train)\n",
        "\n",
        "    y_test_pre = lr.predict(X_test_re_train)\n",
        "\n",
        "    return y_test_pre\n",
        "\n",
        "\n",
        "def re_train_best_feature_model_1c(X_train, y_train, X_test):\n",
        "\n",
        "    rmse_mean1, rmse_mean_pos1 = main1c_1(X_train, y_train)\n",
        "    rmse_mean2, rmse_mean_pos2 = main1c_2(X_train, y_train)\n",
        "    rmse_mean3, rmse_mean_pos3 = main1c_3(X_train, y_train)\n",
        "    rmse_best = np.argmin(\n",
        "        [np.min(rmse_mean1), np.min(rmse_mean2), np.min(rmse_mean3)])\n",
        "\n",
        "    if rmse_best == 0:\n",
        "        print('Mô hình 1:')\n",
        "        return re_train_best_feature_model_1c_1(X_train, y_train, X_test, rmse_mean1, rmse_mean_pos1)\n",
        "    elif rmse_best == 1:\n",
        "        print('Mô hình 2:')\n",
        "        return re_train_best_feature_model_1c_2(X_train, y_train, X_test, rmse_mean2, rmse_mean_pos2)\n",
        "    else:\n",
        "        print('Mô hình 3:')\n",
        "        return re_train_best_feature_model_1c_3(X_train, y_train, X_test, rmse_mean3, rmse_mean_pos3)\n"
      ]
    },
    {
      "cell_type": "code",
      "execution_count": null,
      "metadata": {
        "colab": {
          "base_uri": "https://localhost:8080/"
        },
        "id": "biDGoebvvRGI",
        "outputId": "12d49145-c98c-4397-df30-79404c84c554"
      },
      "outputs": [],
      "source": [
        "# Gọi hàm RMSE (tự cài đặt hoặc từ thư viện) trên tập kiểm tra với mô hình my_best_model\n",
        "\n",
        "rmse = RMSE(y_test, re_train_best_feature_model_1c(X_train, y_train, X_test))\n",
        "print(\"RMSE =\", rmse)\n"
      ]
    },
    {
      "cell_type": "markdown",
      "metadata": {
        "id": "88BCXiDEvRGI"
      },
      "source": [
        "Công thức hồi quy\n",
        "\n",
        "$$\\text{Life expectancy} = 0.4398 * Polio + 0.3505 * Diphtheria$$"
      ]
    }
  ],
  "metadata": {
    "colab": {
      "collapsed_sections": [],
      "name": "20127132.ipynb",
      "provenance": []
    },
    "kernelspec": {
      "display_name": "Python 3.9.12 ('base')",
      "language": "python",
      "name": "python3"
    },
    "language_info": {
      "codemirror_mode": {
        "name": "ipython",
        "version": 3
      },
      "file_extension": ".py",
      "mimetype": "text/x-python",
      "name": "python",
      "nbconvert_exporter": "python",
      "pygments_lexer": "ipython3",
      "version": "3.9.12"
    },
    "orig_nbformat": 4,
    "vscode": {
      "interpreter": {
        "hash": "c7dccc9a020c76e85f6f540ec897bf856de5e7f62da872c70e85471b863b7ad9"
      }
    }
  },
  "nbformat": 4,
  "nbformat_minor": 0
}
